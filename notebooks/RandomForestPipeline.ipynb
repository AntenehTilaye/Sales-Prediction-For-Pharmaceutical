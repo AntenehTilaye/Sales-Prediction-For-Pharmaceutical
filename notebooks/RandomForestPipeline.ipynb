{
 "cells": [
  {
   "cell_type": "code",
   "execution_count": null,
   "metadata": {},
   "outputs": [],
   "source": [
    "from pprint import pprint\n",
    "import dvc.api\n",
    "\n",
    "from sklearn.ensemble import RandomForestRegressor\n",
    "from sklearn.model_selection import train_test_split\n",
    "from sklearn.metrics import mean_squared_error, mean_absolute_error, mean_squared_error, r2_score\n",
    "\n",
    "import mlflow\n",
    "import mlflow.sklearn\n",
    "from sklearn.pipeline import Pipeline\n",
    "import pandas as pd\n",
    "import os, sys\n",
    "\n",
    "import io \n"
   ]
  },
  {
   "cell_type": "code",
   "execution_count": null,
   "metadata": {},
   "outputs": [],
   "source": [
    "path_parent = os.path.dirname(os.getcwd())\n",
    "os.chdir(path_parent)\n",
    "sys.path.insert(0, path_parent+'/scripts')\n",
    "\n"
   ]
  },
  {
   "cell_type": "code",
   "execution_count": null,
   "metadata": {},
   "outputs": [],
   "source": [
    "path=\"data/train_data.csv\"\n",
    "repo=\"C:/Users/user/Desktop/TenAcademy/Sales-Prediction-For-Pharmaceutical/\"\n",
    "version=\"v4-train\"\n",
    "\n",
    "path2=\"data/test_data.csv\"\n",
    "repo2=\"C:/Users/user/Desktop/TenAcademy/Sales-Prediction-For-Pharmaceutical/\"\n",
    "version2=\"v4-train\"\n",
    "\n"
   ]
  },
  {
   "cell_type": "code",
   "execution_count": null,
   "metadata": {},
   "outputs": [],
   "source": [
    "train_data = dvc.api.read(\n",
    "    path=path,\n",
    "    repo=repo,\n",
    "    rev=version,\n",
    ")\n",
    "\n",
    "test_data = dvc.api.read(\n",
    "    path=path2,\n",
    "    repo=repo2,\n",
    "    rev=version2,\n",
    ")\n",
    "\n"
   ]
  },
  {
   "cell_type": "code",
   "execution_count": null,
   "metadata": {},
   "outputs": [],
   "source": [
    "mlflow.set_experiment('forecast_randomforest')\n",
    "\n"
   ]
  },
  {
   "cell_type": "code",
   "execution_count": null,
   "metadata": {},
   "outputs": [],
   "source": [
    "# def eval_metrics(actual, pred):\n",
    "#     rmse = np.sqrt(mean_squared_error(actual, pred))\n",
    "#     mae = mean_absolute_error(actual, pred)\n",
    "#     r2 = r2_score(actual, pred)\n",
    "    \n",
    "#     return rmse, mae, r2\n",
    "\n",
    "# prepare example dataset\n",
    "train_ = pd.read_csv(io.StringIO(train_data), sep=\",\")\n",
    "\n",
    "inputs_test = pd.read_csv(io.StringIO(test_data), sep=\",\")\n",
    "print(train_.columns)\n"
   ]
  },
  {
   "cell_type": "code",
   "execution_count": null,
   "metadata": {},
   "outputs": [],
   "source": [
    "\n",
    "\n",
    "\n",
    "#log data params\n",
    "mlflow.log_param('train_data_version', version)\n",
    "mlflow.log_param('input_rows', train_.shape[0])\n",
    "mlflow.log_param('input_colums', train_.shape[1])\n",
    "\n",
    "mlflow.log_param('test_data_version', version2)\n",
    "mlflow.log_param('test_input_rows', inputs_test.shape[0])\n",
    "mlflow.log_param('test_input_colums', inputs_test.shape[1])\n"
   ]
  },
  {
   "cell_type": "code",
   "execution_count": null,
   "metadata": {},
   "outputs": [],
   "source": [
    "\n",
    "train_.drop(columns=['Unnamed: 0'], inplace=True)\n",
    "inputs_test.drop(columns=['Unnamed: 0'], inplace=True)\n",
    "\n",
    "inputs = train_.drop(['Sales'], axis=1)\n",
    "targets = train_[['Sales']]\n",
    "\n"
   ]
  },
  {
   "cell_type": "code",
   "execution_count": null,
   "metadata": {},
   "outputs": [],
   "source": [
    "rf_model = RandomForestRegressor()\n",
    "\n",
    "rf_pipeline = Pipeline(steps=[\n",
    "    ('preprocess', ),\n",
    "    ('model', rf_model)\n",
    "])\n",
    "\n"
   ]
  },
  {
   "cell_type": "code",
   "execution_count": null,
   "metadata": {},
   "outputs": [],
   "source": [
    "lr.fit(inputs, targets)\n",
    "\n",
    "# score = lr.score(X_test, y_test)\n",
    "\n",
    "# print(\"Score: %s\" % score)\n",
    "# mlflow.log_metric(\"score\", score)\n",
    "mlflow.sklearn.log_model(lr, \"model\")\n",
    "print(\"Model saved in run %s\" % mlflow.active_run().info.run_uuid)\n"
   ]
  }
 ],
 "metadata": {
  "kernelspec": {
   "display_name": "Python 3.7.11 ('base')",
   "language": "python",
   "name": "python3"
  },
  "language_info": {
   "name": "python",
   "version": "3.7.11"
  },
  "orig_nbformat": 4,
  "vscode": {
   "interpreter": {
    "hash": "ad2bdc8ecc057115af97d19610ffacc2b4e99fae6737bb82f5d7fb13d2f2c186"
   }
  }
 },
 "nbformat": 4,
 "nbformat_minor": 2
}
